{
  "nbformat": 4,
  "nbformat_minor": 0,
  "metadata": {
    "colab": {
      "name": "blazingsql_demo.ipynb",
      "provenance": [],
      "collapsed_sections": [],
      "include_colab_link": true
    },
    "kernelspec": {
      "name": "python3",
      "display_name": "Python 3"
    },
    "accelerator": "GPU"
  },
  "cells": [
    {
      "cell_type": "markdown",
      "metadata": {
        "id": "view-in-github",
        "colab_type": "text"
      },
      "source": [
        "<a href=\"https://colab.research.google.com/github/twilight2001/datasciencecoursera/blob/master/blazingsql_demo.ipynb\" target=\"_parent\"><img src=\"https://colab.research.google.com/assets/colab-badge.svg\" alt=\"Open In Colab\"/></a>"
      ]
    },
    {
      "cell_type": "markdown",
      "metadata": {
        "id": "8AdUt3HiUrc3",
        "colab_type": "text"
      },
      "source": [
        "#Get Started with Blazing SQL\n",
        "\n",
        "In this notebook, we will walk through the process for getting BlazingSQL and cuDF running. We will then demonstrate a basic ETL process and query a csv. \n",
        "\n",
        "Please click the 'Open in Playground Mode Option ' to run this demo on your own. \n",
        "\n",
        "Feel free to add your own code or modify ours as needed.\n",
        "\n",
        "\n",
        "Background Info:\n",
        "[BlazingSQL](http://blazingdb.com/#/)\n",
        "[RAPIDS AI/cuDF](https://rapids.ai/about.html)\n"
      ]
    },
    {
      "cell_type": "markdown",
      "metadata": {
        "id": "_h26epJpUeZP",
        "colab_type": "text"
      },
      "source": [
        "# Setup"
      ]
    },
    {
      "cell_type": "markdown",
      "metadata": {
        "id": "McVBO7GHRDzz",
        "colab_type": "text"
      },
      "source": [
        "## Environment Sanity Check \n",
        "\n",
        "Once you are in Playground mode, click the Runtime dropdown at the top of the page, then Change Runtime Type and confirm the instance type has GPU selected for 'Hardware Accelerator'.\n",
        "\n",
        "Check the output of '!nvidia-smi' to make sure you've been allocated a Tesla T4.\n"
      ]
    },
    {
      "cell_type": "code",
      "metadata": {
        "id": "_lf6yKBoRYGy",
        "colab_type": "code",
        "outputId": "1fc55d90-928c-4bdb-e8b7-af2a4adfebb9",
        "colab": {
          "base_uri": "https://localhost:8080/",
          "height": 306
        }
      },
      "source": [
        "!nvidia-smi"
      ],
      "execution_count": 0,
      "outputs": [
        {
          "output_type": "stream",
          "text": [
            "Thu Aug 15 23:25:50 2019       \n",
            "+-----------------------------------------------------------------------------+\n",
            "| NVIDIA-SMI 418.67       Driver Version: 410.79       CUDA Version: 10.0     |\n",
            "|-------------------------------+----------------------+----------------------+\n",
            "| GPU  Name        Persistence-M| Bus-Id        Disp.A | Volatile Uncorr. ECC |\n",
            "| Fan  Temp  Perf  Pwr:Usage/Cap|         Memory-Usage | GPU-Util  Compute M. |\n",
            "|===============================+======================+======================|\n",
            "|   0  Tesla T4            Off  | 00000000:00:04.0 Off |                    0 |\n",
            "| N/A   40C    P8    15W /  70W |      0MiB / 15079MiB |      0%      Default |\n",
            "+-------------------------------+----------------------+----------------------+\n",
            "                                                                               \n",
            "+-----------------------------------------------------------------------------+\n",
            "| Processes:                                                       GPU Memory |\n",
            "|  GPU       PID   Type   Process name                             Usage      |\n",
            "|=============================================================================|\n",
            "|  No running processes found                                                 |\n",
            "+-----------------------------------------------------------------------------+\n"
          ],
          "name": "stdout"
        }
      ]
    },
    {
      "cell_type": "markdown",
      "metadata": {
        "id": "whWnF2pJ5VCW",
        "colab_type": "text"
      },
      "source": [
        "Sometimes Google Colab will assign a Tesla K80 (which we do not support), so the script below helps confirm you have a T4 GPU attached to your runtime."
      ]
    },
    {
      "cell_type": "code",
      "metadata": {
        "id": "Z8vQLr1pRakc",
        "colab_type": "code",
        "outputId": "4b60e394-353a-4323-ed42-fffddfb48d48",
        "colab": {
          "base_uri": "https://localhost:8080/",
          "height": 34
        }
      },
      "source": [
        "import pynvml\n",
        "\n",
        "\n",
        "pynvml.nvmlInit()\n",
        "handle = pynvml.nvmlDeviceGetHandleByIndex(0)\n",
        "device_name = pynvml.nvmlDeviceGetName(handle)\n",
        "\n",
        "if device_name != b'Tesla T4':\n",
        "  raise Exception(\"\"\"\n",
        "    Unfortunately this instance does not have a T4 GPU.\n",
        "    \n",
        "    Please make sure you've configured Colab to request a GPU instance type.\n",
        "    \n",
        "    Sometimes Colab allocates a Tesla K80 instead of a T4. Resetting the instance.\n",
        "\n",
        "    If you get a K80 GPU, try Runtime -> Reset all runtimes...\n",
        "  \"\"\")\n",
        "else:\n",
        "  print('Woo! You got the right kind of GPU!')"
      ],
      "execution_count": 0,
      "outputs": [
        {
          "output_type": "stream",
          "text": [
            "Woo! You got the right kind of GPU!\n"
          ],
          "name": "stdout"
        }
      ]
    },
    {
      "cell_type": "markdown",
      "metadata": {
        "id": "xM8xTlqeRi-g",
        "colab_type": "text"
      },
      "source": [
        "## Install BlazingSQL + cuDF\n",
        "This will take roughly a minute and a half.\n",
        "\n",
        "cuDF is the RAPIDS AI GPU DataFrame library with a Pandas-like API. Learn more about cuDF [here](https://github.com/rapidsai/cudf)."
      ]
    },
    {
      "cell_type": "code",
      "metadata": {
        "id": "mYtu-3EWdIi3",
        "colab_type": "code",
        "outputId": "f0d30475-2c56-4e3e-ea68-d3cb38160600",
        "colab": {
          "base_uri": "https://localhost:8080/",
          "height": 35
        }
      },
      "source": [
        "%%writefile bsql-colab.sh\n",
        "\n",
        "#!/bin/bash\n",
        "\n",
        "\n",
        "set -eu\n",
        "\n",
        "wget -nc https://github.com/rapidsai/notebooks-extended/raw/master/utils/env-check.py\n",
        "echo \"Checking for GPU type:\"\n",
        "python env-check.py\n",
        "\n",
        "if [ ! -f Miniconda3-4.5.4-Linux-x86_64.sh ]; then\n",
        "    echo \"Removing conflicting packages, will replace with RAPIDS compatible versions\"\n",
        "    # remove existing xgboost and dask installs\n",
        "    pip uninstall -y xgboost dask distributed\n",
        "\n",
        "    # intall miniconda\n",
        "    echo \"Installing conda\"\n",
        "    wget https://repo.continuum.io/miniconda/Miniconda3-4.5.4-Linux-x86_64.sh\n",
        "    chmod +x Miniconda3-4.5.4-Linux-x86_64.sh\n",
        "    bash ./Miniconda3-4.5.4-Linux-x86_64.sh -b -f -p /usr/local\n",
        "    \n",
        "    echo \"Installing RAPIDS packages\"\n",
        "    echo \"Please standby, this will take a few minutes...\"\n",
        "    # install RAPIDS packages\n",
        "    conda install -y --prefix /usr/local \\\n",
        "      -c rapidsai/label/xgboost -c rapidsai -c nvidia -c conda-forge \\\n",
        "      python=3.6 cudatoolkit=10.0 \\\n",
        "      cudf=0.9.* cuml=0.9.* cugraph=0.9.* gcsfs pynvml \\\n",
        "      dask-cudf=0.9.* \\\n",
        "      rapidsai/label/xgboost::xgboost=>0.9\n",
        "      \n",
        "    echo \"Copying shared object files to /usr/lib\"\n",
        "    # copy .so files to /usr/lib, where Colab's Python looks for libs\n",
        "    cp /usr/local/lib/libcudf.so /usr/lib/libcudf.so\n",
        "    cp /usr/local/lib/librmm.so /usr/lib/librmm.so\n",
        "    cp /usr/local/lib/libxgboost.so /usr/lib/libxgboost.so\n",
        "    cp /usr/local/lib/libnccl.so /usr/lib/libnccl.so\n",
        "    conda install -y --prefix /usr/local -c rapidsai -c nvidia -c conda-forge -c felipeblazing/label/cuda10.0 python=3.6 cudatoolkit=10.0 blazingsql-ral blazingsql-orchestrator blazingsql-calcite blazingsql-python\n",
        "    pip install flatbuffers\n",
        "fi\n",
        "echo \"\"\n",
        "echo \"*********************************************\"\n",
        "echo \"Your Google Colab instance is RAPIDS ready!\"\n",
        "echo \"*********************************************\"\n",
        "\n",
        "\n",
        "\n",
        "echo \"\"\n",
        "echo \"*********************************************\"\n",
        "echo \"Your Google Colab instance is BlazingSQL ready!\"\n",
        "echo \"*********************************************\"\n"
      ],
      "execution_count": 0,
      "outputs": [
        {
          "output_type": "stream",
          "text": [
            "Overwriting bsql-colab.sh\n"
          ],
          "name": "stdout"
        }
      ]
    },
    {
      "cell_type": "code",
      "metadata": {
        "id": "GmVBmKDfdIsf",
        "colab_type": "code",
        "outputId": "fa93b1ee-40ff-4c09-94bd-b60a5761d27d",
        "colab": {
          "base_uri": "https://localhost:8080/",
          "height": 312
        }
      },
      "source": [
        "%%time\n",
        "!bash bsql-colab.sh"
      ],
      "execution_count": 0,
      "outputs": [
        {
          "output_type": "stream",
          "text": [
            "File ‘env-check.py’ already there; not retrieving.\n",
            "\n",
            "Checking for GPU type:\n",
            "*********************************************\n",
            "Woo! Your instance has the right kind of GPU!\n",
            "*********************************************\n",
            "\n",
            "\n",
            "*********************************************\n",
            "Your Google Colab instance is RAPIDS ready!\n",
            "*********************************************\n",
            "\n",
            "*********************************************\n",
            "Your Google Colab instance is BlazingSQL ready!\n",
            "*********************************************\n",
            "CPU times: user 7.55 ms, sys: 12.2 ms, total: 19.7 ms\n",
            "Wall time: 580 ms\n"
          ],
          "name": "stdout"
        }
      ]
    },
    {
      "cell_type": "markdown",
      "metadata": {
        "id": "aC-sN12VSRRX",
        "colab_type": "text"
      },
      "source": [
        "# You are ready to go with BlazingSQL!\n",
        "Nice Job! Now lets see how it works."
      ]
    },
    {
      "cell_type": "markdown",
      "metadata": {
        "id": "aMwNKxePSwOp",
        "colab_type": "text"
      },
      "source": [
        "# Import packages and create Blazing Context\n",
        "You can think of the BlazingContext much like a Spark Context. This is where information such as FileSystems you have registered, Tables you have created will be stored.\n",
        "\n",
        "If you have issues running this cell, restart runtime and try running it again.\n"
      ]
    },
    {
      "cell_type": "code",
      "metadata": {
        "id": "o4qmGu7Jcv3R",
        "colab_type": "code",
        "colab": {}
      },
      "source": [
        "import sys, os, time\n",
        "\n",
        "sys.path.append('/usr/local/lib/python3.6/site-packages/')\n",
        "os.environ['NUMBAPRO_NVVM'] = '/usr/local/cuda/nvvm/lib64/libnvvm.so'\n",
        "os.environ['NUMBAPRO_LIBDEVICE'] = '/usr/local/cuda/nvvm/libdevice/'\n",
        "\n",
        "#Standup the BlazingSQL Services - We are working on removing the need to call these functions and just initializing them in BlazingContext\n",
        "import subprocess\n",
        "subprocess.Popen(['blazingsql-orchestrator', '9100', '8889', '127.0.0.1', '8890'],stdin=subprocess.PIPE, stdout=subprocess.PIPE, stderr=subprocess.STDOUT)\n",
        "subprocess.Popen(['java', '-jar', '/usr/local/lib/blazingsql-algebra.jar', '-p', '8890'])\n",
        "import pyblazing.apiv2.context as cont\n",
        "cont.runRal()\n",
        "time.sleep(1) #Wait for service to start."
      ],
      "execution_count": 0,
      "outputs": []
    },
    {
      "cell_type": "code",
      "metadata": {
        "id": "ZR_vWwtMcvvY",
        "colab_type": "code",
        "outputId": "c78cc40a-f7d8-4ac5-c255-d99edd03b785",
        "colab": {
          "base_uri": "https://localhost:8080/",
          "height": 35
        }
      },
      "source": [
        "from blazingsql import BlazingContext\n",
        "import cudf\n",
        "\n",
        "bc = BlazingContext()"
      ],
      "execution_count": 0,
      "outputs": [
        {
          "output_type": "stream",
          "text": [
            "Already connected to the Orchestrator\n"
          ],
          "name": "stdout"
        }
      ]
    },
    {
      "cell_type": "markdown",
      "metadata": {
        "id": "N2bqpDEnZyQf",
        "colab_type": "text"
      },
      "source": [
        "# Read CSV\n",
        "First we uploaded a CSV file through the Google Colab interface. \n",
        "\n",
        "Then we use cuDF to read the CSV file. This gives us a GPU DataFrame (GDF).\n",
        "\n",
        "To learn more about the GDF and how it enables end to end workloads on rapids, read [this](https://blog.blazingdb.com/blazingsql-part-1-the-gpu-dataframe-gdf-and-cudf-in-rapids-ai-96ec15102240)."
      ]
    },
    {
      "cell_type": "code",
      "metadata": {
        "id": "iqRDacOBOg44",
        "colab_type": "code",
        "outputId": "dccb35e0-c284-498b-80b7-8cfc84a7a6a7",
        "colab": {
          "base_uri": "https://localhost:8080/",
          "height": 204
        }
      },
      "source": [
        "#Download the test CSV\n",
        "!wget 'https://s3.amazonaws.com/blazingsql-colab/Music.csv'"
      ],
      "execution_count": 0,
      "outputs": [
        {
          "output_type": "stream",
          "text": [
            "--2019-08-15 23:32:28--  https://s3.amazonaws.com/blazingsql-colab/Music.csv\n",
            "Resolving s3.amazonaws.com (s3.amazonaws.com)... 52.216.107.206\n",
            "Connecting to s3.amazonaws.com (s3.amazonaws.com)|52.216.107.206|:443... connected.\n",
            "HTTP request sent, awaiting response... 200 OK\n",
            "Length: 10473 (10K) [text/csv]\n",
            "Saving to: ‘Music.csv’\n",
            "\n",
            "\rMusic.csv             0%[                    ]       0  --.-KB/s               \rMusic.csv           100%[===================>]  10.23K  --.-KB/s    in 0s      \n",
            "\n",
            "2019-08-15 23:32:29 (155 MB/s) - ‘Music.csv’ saved [10473/10473]\n",
            "\n"
          ],
          "name": "stdout"
        }
      ]
    },
    {
      "cell_type": "code",
      "metadata": {
        "id": "HhRhj-ZvZygH",
        "colab_type": "code",
        "colab": {}
      },
      "source": [
        "gdf = cudf.read_csv('Music.csv')"
      ],
      "execution_count": 0,
      "outputs": []
    },
    {
      "cell_type": "markdown",
      "metadata": {
        "id": "HJFz-mqZTJ5Z",
        "colab_type": "text"
      },
      "source": [
        "# Create a Table\n",
        "\n",
        "Now we just need to create a table. Apache Parquet is a great, open source and distributed file format built for systems like HDFS. Apache Parquet files also have metadata which self describes the schema, making import a cinch!"
      ]
    },
    {
      "cell_type": "code",
      "metadata": {
        "id": "HJuvtJDYTMyb",
        "colab_type": "code",
        "colab": {}
      },
      "source": [
        "bc.create_table('music', gdf)"
      ],
      "execution_count": 0,
      "outputs": []
    },
    {
      "cell_type": "markdown",
      "metadata": {
        "id": "98HJFrt5TRa0",
        "colab_type": "text"
      },
      "source": [
        "# Query a Table\n",
        "That's it! Now you can write a SQL query and the data will get processed on the GPU with BlazingSQL, and the output will be a GPU DataFrame (GDF) inside RAPIDS!"
      ]
    },
    {
      "cell_type": "code",
      "metadata": {
        "id": "14GwxmLsTV_p",
        "colab_type": "code",
        "outputId": "144b7601-5363-49f8-d5af-13e80917672c",
        "colab": {
          "base_uri": "https://localhost:8080/",
          "height": 1000
        }
      },
      "source": [
        "#Query\n",
        "result = bc.sql('SELECT * FROM main.music').get()\n",
        "\n",
        "#Get GDF\n",
        "result_gdf = result.columns\n",
        "\n",
        "#Print GDF\n",
        "print(result_gdf)"
      ],
      "execution_count": 0,
      "outputs": [
        {
          "output_type": "stream",
          "text": [
            "                                  ARTIST RATING  ...          LOCATION FESTIVAL_SET\n",
            "0                            Arcade Fire   10.0  ...         Las Vegas          1.0\n",
            "1                                Justice   10.0  ...         Las Vegas          1.0\n",
            "2               Florence and The Machine   10.0  ...         Las Vegas          1.0\n",
            "3                                 Odesza   10.0  ...             Indio          1.0\n",
            "4                               Bon Iver   10.0  ...             Indio          1.0\n",
            "5            LA Philharmonic + Sigur Ros   10.0  ...                LA          0.0\n",
            "6                              Sigur Ros   10.0  ...             Malmo          0.0\n",
            "7                            Arcade Fire   10.0  ...             Indio          1.0\n",
            "8                                 Escort    9.0  ...     San Francisco          0.0\n",
            "9                                Phoenix    9.0  ...          Berkeley          0.0\n",
            "10                              Jamie XX    9.0  ...  Golden Gate Park          1.0\n",
            "11                               Beyonce   10.0  ...             Indio          1.0\n",
            "12                               Soulwax    9.0  ...             Indio          1.0\n",
            "13                                The XX    9.0  ...         Las Vegas          1.0\n",
            "14                               Justice    9.0  ...             Indio          1.0\n",
            "15                             Sigur Ros    9.0  ...                LA          0.0\n",
            "16                                The XX    9.0  ...            London          0.0\n",
            "17            Porter Robinson and Madeon    9.0  ...            London          0.0\n",
            "18                  Garden City Movement    9.0  ...          Tel Aviv          0.0\n",
            "19                                  ACDC    9.0  ...             Indio          1.0\n",
            "20                       Porter Robinson    9.0  ...         Las Vegas          1.0\n",
            "21                                 Alt-J    9.0  ...         Barcelona          1.0\n",
            "22                           Arcade Fire    9.0  ...                LA          0.0\n",
            "23                               Phoenix    9.0  ...             Indio          1.0\n",
            "24                              Chvrches    9.0  ...        Copenhagen          0.0\n",
            "25                 Red Hot Chili Peppers    9.0  ...           Oakland          0.0\n",
            "26                                Jungle    8.0  ...         Las Vegas          1.0\n",
            "27                           Sylvan Esso    8.0  ...         Las Vegas          1.0\n",
            "28                      Lake Street Dive    8.0  ...     San Francisco          0.0\n",
            "29                                Elohim    8.0  ...  Golden Gate Park          1.0\n",
            "..                                   ...    ...  ...               ...          ...\n",
            "316                              Ratatat    3.0  ...             Indio          1.0\n",
            "317                              Kaskade    3.0  ...             Indio          1.0\n",
            "318                           Peking Duk    3.0  ...         Las Vegas          1.0\n",
            "319                               Foals     3.0  ...           Oakland          1.0\n",
            "320                     The Neighborhood    3.0  ...             Indio          1.0\n",
            "321  Tyler the Creator / Earl Sweatshirt    3.0  ...             Indio          1.0\n",
            "322                      Childish Gambi0    3.0  ...         Claremont          0.0\n",
            "323                          Two Friends    3.0  ...     San Francisco          0.0\n",
            "324                           Digitalism    3.0  ...        Copenhagen          0.0\n",
            "325                               Deorro    2.0  ...         Las Vegas          1.0\n",
            "326                              Bearson    2.0  ...         Las Vegas          1.0\n",
            "327                              Whethan    2.0  ...     Mountain View          1.0\n",
            "328                                Kungs    2.0  ...             Indio          1.0\n",
            "329                          Thomas Jack    2.0  ...             Indio          1.0\n",
            "330                                Vanic    2.0  ...             Indio          1.0\n",
            "331                                Drake    2.0  ...             Indio          1.0\n",
            "332                                 Kygo    2.0  ...             Indio          1.0\n",
            "333                               Health    2.0  ...         Barcelona          1.0\n",
            "334                                 Muse    2.0  ...             Indio          1.0\n",
            "335                         Modest Mouse    2.0  ...             Indio          1.0\n",
            "336                            The K0cks    2.0  ...                LA          0.0\n",
            "337                     The Chainsmokers    2.0  ...            London          0.0\n",
            "338                               Avicii    2.0  ...             Vegas          0.0\n",
            "339                             2 Chainz    1.0  ...         Las Vegas          1.0\n",
            "340          Nick cave and the bad seeds    1.0  ...             Indio          1.0\n",
            "341                                 null   null  ...              null         null\n",
            "342                                 null   null  ...              null         null\n",
            "343                                 null   null  ...              null         null\n",
            "344                                 null   null  ...              null         null\n",
            "345                                 null   null  ...                ,          null\n",
            "\n",
            "[346 rows x 5 columns]\n"
          ],
          "name": "stdout"
        }
      ]
    },
    {
      "cell_type": "markdown",
      "metadata": {
        "id": "wygAeTIFTm2X",
        "colab_type": "text"
      },
      "source": [
        "And... thats it! You are now live with BlazingSQL. Check out our [docs](https://docs.blazingdb.com) to get fancy as well as to learn more about how BlazingSQL works with the rest of [RAPIDS AI](https://rapids.ai/). "
      ]
    }
  ]
}